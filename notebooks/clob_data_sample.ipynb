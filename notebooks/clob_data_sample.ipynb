{
 "cells": [
  {
   "cell_type": "code",
   "execution_count": 2,
   "id": "200d7435",
   "metadata": {},
   "outputs": [],
   "source": [
    "# sample demonstration using polymarket py-clob-client to access data alongside polymarket subgraphs"
   ]
  },
  {
   "cell_type": "code",
   "execution_count": 3,
   "id": "924ee24d",
   "metadata": {},
   "outputs": [],
   "source": [
    "# setup client\n",
    "\n",
    "from py_clob_client.client import ClobClient\n",
    "\n",
    "host: str = \"https://clob.polymarket.com\"\n",
    "key: str = \"e1e86804e35806ea465b9a370381cb9e1c44428dfc229a7bb2be951bc6f2fb5e\"\n",
    "chain_id: int = 137\n",
    "POLYMARKET_PROXY_ADDRESS = \"0x95ECa01c289b1ec6D07f2Bf1a76049aC50a4075b\"\n",
    "\n",
    "### Initialization of a client using a Polymarket Proxy associated with a Browser Wallet(Metamask, Coinbase Wallet, etc)\n",
    "client = ClobClient(host, key=key, chain_id=chain_id, signature_type=2, funder=POLYMARKET_PROXY_ADDRESS)"
   ]
  },
  {
   "cell_type": "code",
   "execution_count": 4,
   "id": "5a0b94ab",
   "metadata": {},
   "outputs": [],
   "source": [
    "# create API key\n",
    "creds = client.create_or_derive_api_creds()\n",
    "\n",
    "client.set_api_creds(creds)"
   ]
  },
  {
   "cell_type": "code",
   "execution_count": 5,
   "id": "818ac984",
   "metadata": {},
   "outputs": [
    {
     "name": "stdout",
     "output_type": "stream",
     "text": [
      "[]\n",
      "Done!\n"
     ]
    }
   ],
   "source": [
    "# get orders \n",
    "from py_clob_client.clob_types import OpenOrderParams\n",
    "\n",
    "resp = client.get_orders(\n",
    "    OpenOrderParams(\n",
    "        market=\"0xbd31dc8a20211944f6b70f31557f1001557b59905b7738480ca09bd4532f84af\",\n",
    "    )\n",
    ")\n",
    "print(resp)\n",
    "print(\"Done!\")"
   ]
  },
  {
   "cell_type": "code",
   "execution_count": 6,
   "id": "ade171d2",
   "metadata": {},
   "outputs": [
    {
     "name": "stdout",
     "output_type": "stream",
     "text": [
      "[]\n",
      "Done!\n"
     ]
    }
   ],
   "source": [
    "from py_clob_client.clob_types import TradeParams\n",
    "\n",
    "AENEWS2_PROXY_WALLET = \"0x44c1dfe43260c94ed4f1d00de2e1f80fb113ebc1\"\n",
    "\n",
    "resp = client.get_trades(\n",
    "    TradeParams(\n",
    "        maker_address=AENEWS2_PROXY_WALLET,\n",
    "    ),\n",
    ")\n",
    "print(resp)\n",
    "print(\"Done!\")"
   ]
  },
  {
   "cell_type": "code",
   "execution_count": null,
   "id": "2be6e5f8",
   "metadata": {},
   "outputs": [
    {
     "name": "stderr",
     "output_type": "stream",
     "text": [
      "2025-05-13 12:55:25 - root - INFO - creating or fetching clob api key\n"
     ]
    },
    {
     "ename": "PolyApiException",
     "evalue": "PolyApiException[status_code=400, error_message={'error': 'GetBalanceAndAllowance invalid params: assetId invalid value -1, as this is a erc1155 operation, asset must be a valid tokenId value'}]",
     "output_type": "error",
     "traceback": [
      "\u001b[0;31m---------------------------------------------------------------------------\u001b[0m",
      "\u001b[0;31mPolyApiException\u001b[0m                          Traceback (most recent call last)",
      "Cell \u001b[0;32mIn[18], line 11\u001b[0m\n\u001b[1;32m      5\u001b[0m \u001b[38;5;28;01mfrom\u001b[39;00m\u001b[38;5;250m \u001b[39m\u001b[38;5;21;01magents\u001b[39;00m\u001b[38;5;21;01m.\u001b[39;00m\u001b[38;5;21;01mpolymarket\u001b[39;00m\u001b[38;5;21;01m.\u001b[39;00m\u001b[38;5;21;01mpolymarket\u001b[39;00m\u001b[38;5;250m \u001b[39m\u001b[38;5;28;01mimport\u001b[39;00m Polymarket \n\u001b[1;32m      8\u001b[0m pm \u001b[38;5;241m=\u001b[39m Polymarket()\n\u001b[0;32m---> 11\u001b[0m resp \u001b[38;5;241m=\u001b[39m \u001b[43mclient\u001b[49m\u001b[38;5;241;43m.\u001b[39;49m\u001b[43mget_balance_allowance\u001b[49m\u001b[43m(\u001b[49m\n\u001b[1;32m     12\u001b[0m \u001b[43m    \u001b[49m\u001b[43mBalanceAllowanceParams\u001b[49m\u001b[43m(\u001b[49m\n\u001b[1;32m     13\u001b[0m \u001b[43m        \u001b[49m\u001b[43masset_type\u001b[49m\u001b[38;5;241;43m=\u001b[39;49m\u001b[43mAssetType\u001b[49m\u001b[38;5;241;43m.\u001b[39;49m\u001b[43mCONDITIONAL\u001b[49m\u001b[43m,\u001b[49m\n\u001b[1;32m     14\u001b[0m \u001b[43m        \u001b[49m\u001b[43mtoken_id\u001b[49m\u001b[38;5;241;43m=\u001b[39;49m\u001b[38;5;28;43;01mNone\u001b[39;49;00m\n\u001b[1;32m     15\u001b[0m \u001b[43m    \u001b[49m\u001b[43m)\u001b[49m\n\u001b[1;32m     16\u001b[0m \u001b[43m)\u001b[49m\n\u001b[1;32m     17\u001b[0m \u001b[38;5;28mprint\u001b[39m(resp)\n",
      "File \u001b[0;32m~/anaconda3/envs/myenv/lib/python3.9/site-packages/py_clob_client/client.py:632\u001b[0m, in \u001b[0;36mClobClient.get_balance_allowance\u001b[0;34m(self, params)\u001b[0m\n\u001b[1;32m    628\u001b[0m     params\u001b[38;5;241m.\u001b[39msignature_type \u001b[38;5;241m=\u001b[39m \u001b[38;5;28mself\u001b[39m\u001b[38;5;241m.\u001b[39mbuilder\u001b[38;5;241m.\u001b[39msig_type\n\u001b[1;32m    629\u001b[0m url \u001b[38;5;241m=\u001b[39m add_balance_allowance_params_to_url(\n\u001b[1;32m    630\u001b[0m     \u001b[38;5;124m\"\u001b[39m\u001b[38;5;132;01m{}\u001b[39;00m\u001b[38;5;132;01m{}\u001b[39;00m\u001b[38;5;124m\"\u001b[39m\u001b[38;5;241m.\u001b[39mformat(\u001b[38;5;28mself\u001b[39m\u001b[38;5;241m.\u001b[39mhost, GET_BALANCE_ALLOWANCE), params\n\u001b[1;32m    631\u001b[0m )\n\u001b[0;32m--> 632\u001b[0m \u001b[38;5;28;01mreturn\u001b[39;00m \u001b[43mget\u001b[49m\u001b[43m(\u001b[49m\u001b[43murl\u001b[49m\u001b[43m,\u001b[49m\u001b[43m \u001b[49m\u001b[43mheaders\u001b[49m\u001b[38;5;241;43m=\u001b[39;49m\u001b[43mheaders\u001b[49m\u001b[43m)\u001b[49m\n",
      "File \u001b[0;32m~/anaconda3/envs/myenv/lib/python3.9/site-packages/py_clob_client/http_helpers/helpers.py:58\u001b[0m, in \u001b[0;36mget\u001b[0;34m(endpoint, headers, data)\u001b[0m\n\u001b[1;32m     57\u001b[0m \u001b[38;5;28;01mdef\u001b[39;00m\u001b[38;5;250m \u001b[39m\u001b[38;5;21mget\u001b[39m(endpoint, headers\u001b[38;5;241m=\u001b[39m\u001b[38;5;28;01mNone\u001b[39;00m, data\u001b[38;5;241m=\u001b[39m\u001b[38;5;28;01mNone\u001b[39;00m):\n\u001b[0;32m---> 58\u001b[0m     \u001b[38;5;28;01mreturn\u001b[39;00m \u001b[43mrequest\u001b[49m\u001b[43m(\u001b[49m\u001b[43mendpoint\u001b[49m\u001b[43m,\u001b[49m\u001b[43m \u001b[49m\u001b[43mGET\u001b[49m\u001b[43m,\u001b[49m\u001b[43m \u001b[49m\u001b[43mheaders\u001b[49m\u001b[43m,\u001b[49m\u001b[43m \u001b[49m\u001b[43mdata\u001b[49m\u001b[43m)\u001b[49m\n",
      "File \u001b[0;32m~/anaconda3/envs/myenv/lib/python3.9/site-packages/py_clob_client/http_helpers/helpers.py:42\u001b[0m, in \u001b[0;36mrequest\u001b[0;34m(endpoint, method, headers, data)\u001b[0m\n\u001b[1;32m     38\u001b[0m resp \u001b[38;5;241m=\u001b[39m requests\u001b[38;5;241m.\u001b[39mrequest(\n\u001b[1;32m     39\u001b[0m     method\u001b[38;5;241m=\u001b[39mmethod, url\u001b[38;5;241m=\u001b[39mendpoint, headers\u001b[38;5;241m=\u001b[39mheaders, json\u001b[38;5;241m=\u001b[39mdata \u001b[38;5;28;01mif\u001b[39;00m data \u001b[38;5;28;01melse\u001b[39;00m \u001b[38;5;28;01mNone\u001b[39;00m\n\u001b[1;32m     40\u001b[0m )\n\u001b[1;32m     41\u001b[0m \u001b[38;5;28;01mif\u001b[39;00m resp\u001b[38;5;241m.\u001b[39mstatus_code \u001b[38;5;241m!=\u001b[39m \u001b[38;5;241m200\u001b[39m:\n\u001b[0;32m---> 42\u001b[0m     \u001b[38;5;28;01mraise\u001b[39;00m PolyApiException(resp)\n\u001b[1;32m     44\u001b[0m \u001b[38;5;28;01mtry\u001b[39;00m:\n\u001b[1;32m     45\u001b[0m     \u001b[38;5;28;01mreturn\u001b[39;00m resp\u001b[38;5;241m.\u001b[39mjson()\n",
      "\u001b[0;31mPolyApiException\u001b[0m: PolyApiException[status_code=400, error_message={'error': 'GetBalanceAndAllowance invalid params: assetId invalid value -1, as this is a erc1155 operation, asset must be a valid tokenId value'}]"
     ]
    }
   ],
   "source": [
    "from py_clob_client.clob_types import BalanceAllowanceParams, AssetType\n",
    "import sys\n",
    "sys.path.insert(0, '../')\n",
    "\n",
    "from agents.polymarket.polymarket import Polymarket \n",
    "\n",
    "\n",
    "pm = Polymarket()\n",
    "\n",
    "\n",
    "resp = client.get_balance_allowance(\n",
    "    BalanceAllowanceParams(\n",
    "        asset_type=AssetType.COLLATERAL,\n",
    "        token_id=None\n",
    "    )\n",
    ")\n",
    "print(resp)"
   ]
  },
  {
   "cell_type": "code",
   "execution_count": null,
   "id": "1df3b0cf",
   "metadata": {},
   "outputs": [
    {
     "ename": "KeyError",
     "evalue": "'value'",
     "output_type": "error",
     "traceback": [
      "\u001b[0;31m---------------------------------------------------------------------------\u001b[0m",
      "\u001b[0;31mKeyError\u001b[0m                                  Traceback (most recent call last)",
      "Cell \u001b[0;32mIn[18], line 28\u001b[0m\n\u001b[1;32m     26\u001b[0m \u001b[38;5;66;03m# Usage example:\u001b[39;00m\n\u001b[1;32m     27\u001b[0m url \u001b[38;5;241m=\u001b[39m \u001b[38;5;124m\"\u001b[39m\u001b[38;5;124mhttps://data-api.polymarket.com\u001b[39m\u001b[38;5;124m\"\u001b[39m\n\u001b[0;32m---> 28\u001b[0m endpoint_paths \u001b[38;5;241m=\u001b[39m \u001b[43mget_endpoint_paths\u001b[49m\u001b[43m(\u001b[49m\u001b[43murl\u001b[49m\u001b[43m)\u001b[49m\n\u001b[1;32m     30\u001b[0m \u001b[38;5;28;01mfor\u001b[39;00m path \u001b[38;5;129;01min\u001b[39;00m endpoint_paths:\n\u001b[1;32m     31\u001b[0m     \u001b[38;5;28mprint\u001b[39m(path)\n",
      "Cell \u001b[0;32mIn[18], line 16\u001b[0m, in \u001b[0;36mget_endpoint_paths\u001b[0;34m(url)\u001b[0m\n\u001b[1;32m     14\u001b[0m \u001b[38;5;28;01mif\u001b[39;00m response\u001b[38;5;241m.\u001b[39mstatus_code \u001b[38;5;241m==\u001b[39m \u001b[38;5;241m200\u001b[39m:\n\u001b[1;32m     15\u001b[0m     data \u001b[38;5;241m=\u001b[39m response\u001b[38;5;241m.\u001b[39mjson()\n\u001b[0;32m---> 16\u001b[0m     \u001b[38;5;28;01mfor\u001b[39;00m endpoint \u001b[38;5;129;01min\u001b[39;00m \u001b[43mdata\u001b[49m\u001b[43m[\u001b[49m\u001b[38;5;124;43m'\u001b[39;49m\u001b[38;5;124;43mvalue\u001b[39;49m\u001b[38;5;124;43m'\u001b[39;49m\u001b[43m]\u001b[49m:\n\u001b[1;32m     17\u001b[0m         endpoint_paths\u001b[38;5;241m.\u001b[39mappend(endpoint)\n\u001b[1;32m     18\u001b[0m \u001b[38;5;28;01melse\u001b[39;00m:\n",
      "\u001b[0;31mKeyError\u001b[0m: 'value'"
     ]
    }
   ],
   "source": [
    "import requests\n",
    "\n",
    "def get_endpoint_paths(url):\n",
    "    # Set up the API parameters\n",
    "    params = {'__type': '*'}\n",
    "\n",
    "    # Initialize an empty list to store the endpoint paths\n",
    "    endpoint_paths = []\n",
    "\n",
    "    while True:\n",
    "        # Send a GET request with query parameter '__type'\n",
    "        response = requests.get(f'{url}?{params[\"__type\"]}', params=params)\n",
    "\n",
    "        if response.status_code == 200:\n",
    "            data = response.json()\n",
    "            for endpoint in data['value']:\n",
    "                endpoint_paths.append(endpoint)\n",
    "        else:\n",
    "            break\n",
    "\n",
    "        # Increment the __type query parameter to get more endpoints\n",
    "        params['__type'] += '*'\n",
    "\n",
    "    return endpoint_paths\n",
    "\n",
    "# Usage example:\n",
    "url = \"https://data-api.polymarket.com\"\n",
    "endpoint_paths = get_endpoint_paths(url)\n",
    "\n",
    "for path in endpoint_paths:\n",
    "    print(path)\n"
   ]
  }
 ],
 "metadata": {
  "kernelspec": {
   "display_name": "myenv",
   "language": "python",
   "name": "python3"
  },
  "language_info": {
   "codemirror_mode": {
    "name": "ipython",
    "version": 3
   },
   "file_extension": ".py",
   "mimetype": "text/x-python",
   "name": "python",
   "nbconvert_exporter": "python",
   "pygments_lexer": "ipython3",
   "version": "3.9.21"
  }
 },
 "nbformat": 4,
 "nbformat_minor": 5
}
